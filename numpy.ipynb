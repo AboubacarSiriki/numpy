{
 "cells": [
  {
   "cell_type": "code",
   "execution_count": 2,
   "id": "3dd497a1",
   "metadata": {},
   "outputs": [
    {
     "data": {
      "text/plain": [
       "3.141592653589793"
      ]
     },
     "execution_count": 2,
     "metadata": {},
     "output_type": "execute_result"
    }
   ],
   "source": [
    "import numpy as np\n",
    "np.pi"
   ]
  },
  {
   "cell_type": "code",
   "execution_count": 9,
   "id": "dbd75423",
   "metadata": {},
   "outputs": [
    {
     "data": {
      "text/plain": [
       "array([1, 5, 7, 8])"
      ]
     },
     "execution_count": 9,
     "metadata": {},
     "output_type": "execute_result"
    }
   ],
   "source": [
    "#1. Constructeur un tableau numpy qui contient les éléments suivants : 1,5,7,8.\n",
    "a=np.array([1,5,7,8])\n",
    "a"
   ]
  },
  {
   "cell_type": "code",
   "execution_count": 10,
   "id": "bb96e100",
   "metadata": {},
   "outputs": [
    {
     "data": {
      "text/plain": [
       "array([1, 2, 3, 4, 5, 6, 7, 8, 9])"
      ]
     },
     "execution_count": 10,
     "metadata": {},
     "output_type": "execute_result"
    }
   ],
   "source": [
    "#2. Constructeur un tableau numpy qui contient les éléments suivants :\n",
    "#1,2,3,4,5,6,7,8,9\n",
    "\n",
    "b=np.arange(1,10,1)\n",
    "b"
   ]
  },
  {
   "cell_type": "code",
   "execution_count": 11,
   "id": "623e9e08",
   "metadata": {},
   "outputs": [
    {
     "data": {
      "text/plain": [
       "array([0., 0., 0., 0., 0., 0., 0., 0., 0., 0.])"
      ]
     },
     "execution_count": 11,
     "metadata": {},
     "output_type": "execute_result"
    }
   ],
   "source": [
    "#3. Créer un tableau de 10 éléments rempli de 0\n",
    "\n",
    "b= np.zeros(10)\n",
    "b"
   ]
  },
  {
   "cell_type": "code",
   "execution_count": 12,
   "id": "de7857a6",
   "metadata": {},
   "outputs": [
    {
     "data": {
      "text/plain": [
       "array([[0., 0., 0., 0., 0.],\n",
       "       [0., 0., 0., 0., 0.]])"
      ]
     },
     "execution_count": 12,
     "metadata": {},
     "output_type": "execute_result"
    }
   ],
   "source": [
    "#4. Créer un tableau de 2 lignes 5 colonnes rempli de 0\n",
    "b=np.zeros((2,5))\n",
    "b"
   ]
  },
  {
   "cell_type": "code",
   "execution_count": 16,
   "id": "b938ce3f",
   "metadata": {},
   "outputs": [
    {
     "data": {
      "text/plain": [
       "array([1., 1., 1., 1., 1., 1., 1., 1., 1., 1.])"
      ]
     },
     "execution_count": 16,
     "metadata": {},
     "output_type": "execute_result"
    }
   ],
   "source": [
    "#5. Créer un tableau de 10 éléments rempli de 1\n",
    "b=np.ones(10)\n",
    "b"
   ]
  },
  {
   "cell_type": "code",
   "execution_count": 17,
   "id": "ecbe4269",
   "metadata": {},
   "outputs": [
    {
     "data": {
      "text/plain": [
       "array([[1., 1., 1., 1., 1.],\n",
       "       [1., 1., 1., 1., 1.]])"
      ]
     },
     "execution_count": 17,
     "metadata": {},
     "output_type": "execute_result"
    }
   ],
   "source": [
    "#6. Créer un tableau de 2 lignes 5 colonnes rempli de 1\n",
    "b=np.ones((2,5))\n",
    "b"
   ]
  },
  {
   "cell_type": "code",
   "execution_count": 23,
   "id": "40271e39",
   "metadata": {},
   "outputs": [
    {
     "data": {
      "text/plain": [
       "array([8.5, 8.5, 8.5, 8.5, 8.5, 8.5, 8.5, 8.5, 8.5, 8.5])"
      ]
     },
     "execution_count": 23,
     "metadata": {},
     "output_type": "execute_result"
    }
   ],
   "source": [
    "#7. Créer un tableau de 10 éléments rempli 8.5\n",
    "b=np.full(10,8.5)\n",
    "b"
   ]
  },
  {
   "cell_type": "code",
   "execution_count": 29,
   "id": "2f61c246",
   "metadata": {},
   "outputs": [
    {
     "data": {
      "text/plain": [
       "array([1, 2, 3, 4, 5, 6, 7, 8, 9])"
      ]
     },
     "execution_count": 29,
     "metadata": {},
     "output_type": "execute_result"
    }
   ],
   "source": [
    "#8. Créer un tableau de série d'entiers successifs allant de 1 à 9 inclus\n",
    "\n",
    "b=np.arange(1,10)\n",
    "b"
   ]
  },
  {
   "cell_type": "code",
   "execution_count": 30,
   "id": "e12c3cd9",
   "metadata": {},
   "outputs": [
    {
     "data": {
      "text/plain": [
       "array([[1, 2, 3],\n",
       "       [4, 5, 6],\n",
       "       [7, 8, 9]])"
      ]
     },
     "execution_count": 30,
     "metadata": {},
     "output_type": "execute_result"
    }
   ],
   "source": [
    "#9. Créer un tableau de 3 lignes et 3 colonnes rempli de série d'entiers successifs\n",
    "#allant de 1 à 9 inclus\n",
    "\n",
    "b=np.arange(1,10)\n",
    "a= b.reshape(3,3)\n",
    "a"
   ]
  },
  {
   "cell_type": "code",
   "execution_count": 32,
   "id": "4f35ae7f",
   "metadata": {},
   "outputs": [
    {
     "data": {
      "text/plain": [
       "array([[1., 0., 0., 0.],\n",
       "       [0., 1., 0., 0.],\n",
       "       [0., 0., 1., 0.],\n",
       "       [0., 0., 0., 1.]])"
      ]
     },
     "execution_count": 32,
     "metadata": {},
     "output_type": "execute_result"
    }
   ],
   "source": [
    "#10.Créer une matrice identité de 4 lignes 4 colonnes\n",
    "\n",
    "taille=4\n",
    "b = np.eye(taille)\n",
    "b"
   ]
  },
  {
   "cell_type": "code",
   "execution_count": 33,
   "id": "6d46f5b9",
   "metadata": {},
   "outputs": [
    {
     "data": {
      "text/plain": [
       "array([[-1.26145647,  0.60907888,  0.4059431 ],\n",
       "       [-0.5533992 , -0.93211859, -0.1337048 ],\n",
       "       [ 2.25327796,  0.57785017, -0.64179929]])"
      ]
     },
     "execution_count": 33,
     "metadata": {},
     "output_type": "execute_result"
    }
   ],
   "source": [
    "#11. Tableau rempli de valeurs aléatoires normales centrées en zéro\n",
    "\n",
    "shape = (3, 3)\n",
    "ecart_type = 1.0\n",
    "b = np.random.normal(0, ecart_type, shape)\n",
    "b"
   ]
  },
  {
   "cell_type": "code",
   "execution_count": 40,
   "id": "2030f2a6",
   "metadata": {},
   "outputs": [
    {
     "data": {
      "text/plain": [
       "array([ 8,  7,  9,  7,  3,  7,  2,  2, 10,  5,  5,  4,  3,  8,  6,  2, 10,\n",
       "        5,  6,  8])"
      ]
     },
     "execution_count": 40,
     "metadata": {},
     "output_type": "execute_result"
    }
   ],
   "source": [
    "#12.Créer un tableau rempli de 20 valeurs aléatoires entières comprises entre 1 et 10\n",
    "min = 1\n",
    "max = 10\n",
    "nombre = 20\n",
    "b=np.random.randint(min, max + 1, nombre)\n",
    "b\n"
   ]
  },
  {
   "cell_type": "code",
   "execution_count": 41,
   "id": "c5e534fe",
   "metadata": {},
   "outputs": [
    {
     "data": {
      "text/plain": [
       "array([[ 8,  7,  9,  7,  3],\n",
       "       [ 7,  2,  2, 10,  5],\n",
       "       [ 5,  4,  3,  8,  6],\n",
       "       [ 2, 10,  5,  6,  8]])"
      ]
     },
     "execution_count": 41,
     "metadata": {},
     "output_type": "execute_result"
    }
   ],
   "source": [
    "#13.Transformer le tableau précédent en matrice de 4 lignes et 5 colonnes\n",
    "\n",
    "matrice=b.reshape(4,5)\n",
    "matrice"
   ]
  },
  {
   "cell_type": "code",
   "execution_count": 43,
   "id": "5de5249d",
   "metadata": {},
   "outputs": [
    {
     "data": {
      "text/plain": [
       "array([0.  , 0.25, 0.5 , 0.75, 1.  ])"
      ]
     },
     "execution_count": 43,
     "metadata": {},
     "output_type": "execute_result"
    }
   ],
   "source": [
    "#14.Créer un tableau de 5 éléments compris entre 0 et 1 avec une amplitude égale\n",
    "b = np.linspace(0, 1, 5)\n",
    "b"
   ]
  },
  {
   "cell_type": "markdown",
   "id": "e520fe14",
   "metadata": {},
   "source": [
    "# EXERCICE 2\n",
    "\n",
    "Soit le tableau a = np.array([[1,2,3],[4,5,6],[7,8,9]])."
   ]
  },
  {
   "cell_type": "code",
   "execution_count": 47,
   "id": "a993b1ca",
   "metadata": {},
   "outputs": [
    {
     "name": "stdout",
     "output_type": "stream",
     "text": [
      "le nombre de ligne est: 3\n",
      "le nombre de ligne est: 3\n"
     ]
    }
   ],
   "source": [
    "#1. Afficher le nombre de lignes et de colonnes\n",
    "a = np.array([[1,2,3],[4,5,6],[7,8,9]])\n",
    "ligne, colonne = a.shape\n",
    "print(\"le nombre de ligne est:\",ligne)\n",
    "print(\"le nombre de ligne est:\",colonne)"
   ]
  },
  {
   "cell_type": "code",
   "execution_count": 50,
   "id": "41ec9e4a",
   "metadata": {},
   "outputs": [
    {
     "name": "stdout",
     "output_type": "stream",
     "text": [
      "le nombre de ligne est: 3\n"
     ]
    }
   ],
   "source": [
    "print(\"le nombre de ligne est:\",np.size(a,0))"
   ]
  },
  {
   "cell_type": "code",
   "execution_count": 51,
   "id": "75b51702",
   "metadata": {},
   "outputs": [
    {
     "name": "stdout",
     "output_type": "stream",
     "text": [
      "le nombre de colonne est: 3\n"
     ]
    }
   ],
   "source": [
    "print(\"le nombre de colonne est:\",np.size(a,1))"
   ]
  },
  {
   "cell_type": "code",
   "execution_count": 52,
   "id": "d4a4ce2b",
   "metadata": {},
   "outputs": [
    {
     "data": {
      "text/plain": [
       "2"
      ]
     },
     "execution_count": 52,
     "metadata": {},
     "output_type": "execute_result"
    }
   ],
   "source": [
    "#2. Afficher la dimension de mon tableau\n",
    "dim=a.ndim\n",
    "dim"
   ]
  },
  {
   "cell_type": "code",
   "execution_count": 53,
   "id": "235ca5ce",
   "metadata": {},
   "outputs": [
    {
     "data": {
      "text/plain": [
       "9"
      ]
     },
     "execution_count": 53,
     "metadata": {},
     "output_type": "execute_result"
    }
   ],
   "source": [
    "#3. Afficher le nombre d'élément de mon tableau\n",
    "nombre_element = a.size\n",
    "nombre_element"
   ]
  },
  {
   "cell_type": "code",
   "execution_count": 57,
   "id": "834c8c6b",
   "metadata": {},
   "outputs": [
    {
     "data": {
      "text/plain": [
       "dtype('int32')"
      ]
     },
     "execution_count": 57,
     "metadata": {},
     "output_type": "execute_result"
    }
   ],
   "source": [
    "#4. Afficher le type des éléments du tableau\n",
    "\n",
    "type_element = a.dtype\n",
    "type_element"
   ]
  },
  {
   "cell_type": "markdown",
   "id": "09b4965c",
   "metadata": {},
   "source": [
    "# EXERCICE 3\n"
   ]
  },
  {
   "cell_type": "code",
   "execution_count": 5,
   "id": "aa550b19",
   "metadata": {},
   "outputs": [
    {
     "data": {
      "text/plain": [
       "5"
      ]
     },
     "execution_count": 5,
     "metadata": {},
     "output_type": "execute_result"
    }
   ],
   "source": [
    "#1. afficher la valeur 5 qui est dans le tablea\n",
    "a = np.array([[1,2,3],[4,5,6],[7,8,9]])\n",
    "element = a[1, 1]\n",
    "element"
   ]
  },
  {
   "cell_type": "code",
   "execution_count": 6,
   "id": "a70fa924",
   "metadata": {},
   "outputs": [
    {
     "data": {
      "text/plain": [
       "array([[1, 2, 3],\n",
       "       [4, 0, 6],\n",
       "       [7, 8, 9]])"
      ]
     },
     "execution_count": 6,
     "metadata": {},
     "output_type": "execute_result"
    }
   ],
   "source": [
    "2. Remplacer le 5 qui est dans le tableau par 0\n",
    "a[1, 1] = 0\n",
    "a"
   ]
  },
  {
   "cell_type": "code",
   "execution_count": 8,
   "id": "567cf1e0",
   "metadata": {},
   "outputs": [
    {
     "data": {
      "text/plain": [
       "[3, 6, 9]"
      ]
     },
     "execution_count": 8,
     "metadata": {},
     "output_type": "execute_result"
    }
   ],
   "source": [
    "#3. afficher les chiffres 3, 6 et 9 du tableau\n",
    "\n",
    "chiffres = [a[0, 2], a[1, 2], a[2, 2]]\n",
    "chiffres"
   ]
  },
  {
   "cell_type": "code",
   "execution_count": 16,
   "id": "d1eece85",
   "metadata": {},
   "outputs": [
    {
     "data": {
      "text/plain": [
       "array([[9, 7, 5],\n",
       "       [1, 5, 7],\n",
       "       [0, 0, 6],\n",
       "       [2, 7, 2]])"
      ]
     },
     "execution_count": 16,
     "metadata": {},
     "output_type": "execute_result"
    }
   ],
   "source": [
    "#4. créer un tableau de 4 lignes et 3 colonnes rempli de 12 nombres entiers aléatoires compris entre 0 et 9\n",
    "tableau_random =np.random.randint(0, 10, size=(4, 3))\n",
    "tableau_random"
   ]
  },
  {
   "cell_type": "code",
   "execution_count": 19,
   "id": "64005bde",
   "metadata": {},
   "outputs": [
    {
     "data": {
      "text/plain": [
       "array([[False, False, False],\n",
       "       [ True, False, False],\n",
       "       [ True,  True, False],\n",
       "       [ True, False,  True]])"
      ]
     },
     "execution_count": 19,
     "metadata": {},
     "output_type": "execute_result"
    }
   ],
   "source": [
    "#5. Vérifier qu’il y a des nombres inférieur à 5\n",
    "nombres_inferieurs_a_5 = tableau_random < 5\n",
    "nombres_inferieurs_a_5"
   ]
  },
  {
   "cell_type": "code",
   "execution_count": 20,
   "id": "bec66fdf",
   "metadata": {},
   "outputs": [
    {
     "data": {
      "text/plain": [
       "array([[9, 7, 5],\n",
       "       [0, 5, 7],\n",
       "       [0, 0, 6],\n",
       "       [0, 7, 0]])"
      ]
     },
     "execution_count": 20,
     "metadata": {},
     "output_type": "execute_result"
    }
   ],
   "source": [
    "#6. Remplacer les nombres inférieurs à 5 par 0\n",
    "tableau_random[nombres_inferieurs_a_5] = 0\n",
    "tableau_random"
   ]
  },
  {
   "cell_type": "markdown",
   "id": "4b7717fc",
   "metadata": {},
   "source": [
    "# EXERCICE 4"
   ]
  },
  {
   "cell_type": "code",
   "execution_count": 4,
   "id": "7b4bcf42",
   "metadata": {},
   "outputs": [
    {
     "data": {
      "text/plain": [
       "array([[2, 6, 2],\n",
       "       [3, 2, 8],\n",
       "       [1, 6, 1],\n",
       "       [5, 8, 7]])"
      ]
     },
     "execution_count": 4,
     "metadata": {},
     "output_type": "execute_result"
    }
   ],
   "source": [
    "#1. Créer un tableau de 4 lignes et 3 colonnes rempli de 11 nombres entiers aléatoires compris entre 0 et 9\n",
    "tableau_random =np.random.randint(0, 10, size=(4, 3))\n",
    "tableau_random"
   ]
  },
  {
   "cell_type": "code",
   "execution_count": 6,
   "id": "7ef35140",
   "metadata": {},
   "outputs": [
    {
     "data": {
      "text/plain": [
       "dtype('int32')"
      ]
     },
     "execution_count": 6,
     "metadata": {},
     "output_type": "execute_result"
    }
   ],
   "source": [
    "#2. Quel est le type des éléments du tableau ?\n",
    "type_element = tableau_random.dtype\n",
    "type_element"
   ]
  },
  {
   "cell_type": "code",
   "execution_count": 9,
   "id": "a9aa7d9e",
   "metadata": {},
   "outputs": [
    {
     "data": {
      "text/plain": [
       "'float32'"
      ]
     },
     "execution_count": 9,
     "metadata": {},
     "output_type": "execute_result"
    }
   ],
   "source": [
    "#3. Changer de type des éléments du tableau en float32\n",
    "type_element = 'float32'\n",
    "type_element"
   ]
  },
  {
   "cell_type": "code",
   "execution_count": 11,
   "id": "96446eb8",
   "metadata": {},
   "outputs": [
    {
     "data": {
      "text/plain": [
       "dtype('float32')"
      ]
     },
     "execution_count": 11,
     "metadata": {},
     "output_type": "execute_result"
    }
   ],
   "source": [
    "tableau_random.dtype = type_element\n",
    "tableau_random.dtype"
   ]
  },
  {
   "cell_type": "code",
   "execution_count": 13,
   "id": "c634f77e",
   "metadata": {},
   "outputs": [
    {
     "data": {
      "text/plain": [
       "array([2.80259693e-45, 8.40779079e-45, 2.80259693e-45, 4.20389539e-45,\n",
       "       2.80259693e-45, 1.12103877e-44, 1.40129846e-45, 8.40779079e-45,\n",
       "       1.40129846e-45, 7.00649232e-45, 1.12103877e-44, 9.80908925e-45,\n",
       "       3.00000000e+00])"
      ]
     },
     "execution_count": 13,
     "metadata": {},
     "output_type": "execute_result"
    }
   ],
   "source": [
    "#4. Ajouter le chiffre 3 à la fin du tableau à une dimension\n",
    "np.append(tableau_random,3)"
   ]
  },
  {
   "cell_type": "code",
   "execution_count": 14,
   "id": "e36a6128",
   "metadata": {},
   "outputs": [
    {
     "data": {
      "text/plain": [
       "array([[2.8e-45, 8.4e-45, 2.8e-45, 4.2e-45],\n",
       "       [2.8e-45, 1.1e-44, 1.4e-45, 8.4e-45],\n",
       "       [1.4e-45, 7.0e-45, 1.1e-44, 9.8e-45]], dtype=float32)"
      ]
     },
     "execution_count": 14,
     "metadata": {},
     "output_type": "execute_result"
    }
   ],
   "source": [
    "#5. Transformer le tableau en matrice dénommée “a” de 3 lignes et 4 colonnes\n",
    "a=tableau_random.reshape(3,4)\n",
    "a"
   ]
  },
  {
   "cell_type": "code",
   "execution_count": 17,
   "id": "fabf61ae",
   "metadata": {},
   "outputs": [
    {
     "data": {
      "text/plain": [
       "array([[ 6, 12,  1, 12],\n",
       "       [ 4,  8, 10,  1],\n",
       "       [ 8,  6,  5,  6]])"
      ]
     },
     "execution_count": 17,
     "metadata": {},
     "output_type": "execute_result"
    }
   ],
   "source": [
    "#6. Créer une matrice dénommée “b” de 3 lignes et 4 colonnes remplie de série d'entiers successifs allant de 1 à 12 inclus\n",
    "b =np.random.randint(1, 13, size=(3, 4))\n",
    "b"
   ]
  },
  {
   "cell_type": "code",
   "execution_count": 19,
   "id": "0fe7ead1",
   "metadata": {},
   "outputs": [
    {
     "data": {
      "text/plain": [
       "array([[2.80259693e-45, 8.40779079e-45, 2.80259693e-45, 4.20389539e-45,\n",
       "        6.00000000e+00, 1.20000000e+01, 1.00000000e+00, 1.20000000e+01],\n",
       "       [2.80259693e-45, 1.12103877e-44, 1.40129846e-45, 8.40779079e-45,\n",
       "        4.00000000e+00, 8.00000000e+00, 1.00000000e+01, 1.00000000e+00],\n",
       "       [1.40129846e-45, 7.00649232e-45, 1.12103877e-44, 9.80908925e-45,\n",
       "        8.00000000e+00, 6.00000000e+00, 5.00000000e+00, 6.00000000e+00]])"
      ]
     },
     "execution_count": 19,
     "metadata": {},
     "output_type": "execute_result"
    }
   ],
   "source": [
    "#7. Créer une matrice dénommée “c” qui est la concaténation des deux tableaux “a” et “b” dans le sens horizontaleµ\n",
    "c = np.hstack((a, b))\n",
    "c"
   ]
  },
  {
   "cell_type": "code",
   "execution_count": 20,
   "id": "1c8f167e",
   "metadata": {},
   "outputs": [
    {
     "data": {
      "text/plain": [
       "array([[2.80259693e-45, 8.40779079e-45, 2.80259693e-45, 4.20389539e-45],\n",
       "       [2.80259693e-45, 1.12103877e-44, 1.40129846e-45, 8.40779079e-45],\n",
       "       [1.40129846e-45, 7.00649232e-45, 1.12103877e-44, 9.80908925e-45],\n",
       "       [6.00000000e+00, 1.20000000e+01, 1.00000000e+00, 1.20000000e+01],\n",
       "       [4.00000000e+00, 8.00000000e+00, 1.00000000e+01, 1.00000000e+00],\n",
       "       [8.00000000e+00, 6.00000000e+00, 5.00000000e+00, 6.00000000e+00]])"
      ]
     },
     "execution_count": 20,
     "metadata": {},
     "output_type": "execute_result"
    }
   ],
   "source": [
    "#8. Créer une matrice dénommée “d” qui est la concaténation des deux tableaux “a” et “b” dans le sens vertical\n",
    "d = np.vstack((a, b))\n",
    "d"
   ]
  },
  {
   "cell_type": "code",
   "execution_count": 21,
   "id": "e28f1f3e",
   "metadata": {},
   "outputs": [
    {
     "data": {
      "text/plain": [
       "array([2.80259693e-45, 8.40779079e-45, 2.80259693e-45, 4.20389539e-45,\n",
       "       2.80259693e-45, 1.12103877e-44, 1.40129846e-45, 8.40779079e-45,\n",
       "       1.40129846e-45, 7.00649232e-45, 1.12103877e-44, 9.80908925e-45,\n",
       "       6.00000000e+00, 1.20000000e+01, 1.00000000e+00, 1.20000000e+01,\n",
       "       4.00000000e+00, 8.00000000e+00, 1.00000000e+01, 1.00000000e+00,\n",
       "       8.00000000e+00, 6.00000000e+00, 5.00000000e+00, 6.00000000e+00])"
      ]
     },
     "execution_count": 21,
     "metadata": {},
     "output_type": "execute_result"
    }
   ],
   "source": [
    "#9. Aplatir un tableau “d\n",
    "d_aplati = d.flatten()\n",
    "d_aplati "
   ]
  },
  {
   "cell_type": "code",
   "execution_count": 22,
   "id": "c71ad24e",
   "metadata": {},
   "outputs": [
    {
     "data": {
      "text/plain": [
       "array([2.80259693e-45, 8.40779079e-45, 2.80259693e-45, 4.20389539e-45,\n",
       "       2.80259693e-45, 1.12103877e-44, 1.40129846e-45, 8.40779079e-45,\n",
       "       1.40129846e-45, 7.00649232e-45, 1.12103877e-44, 9.80908925e-45,\n",
       "       6.00000000e+00, 1.20000000e+01, 1.00000000e+00, 1.20000000e+01,\n",
       "       4.00000000e+00, 8.00000000e+00, 1.00000000e+01, 1.00000000e+00,\n",
       "       8.00000000e+00, 6.00000000e+00, 5.00000000e+00, 6.00000000e+00])"
      ]
     },
     "execution_count": 22,
     "metadata": {},
     "output_type": "execute_result"
    }
   ],
   "source": [
    "# 10.Supprimer dernier élément du tableau\n",
    "d_aplati[:-1]\n",
    "d_aplati"
   ]
  },
  {
   "cell_type": "code",
   "execution_count": 23,
   "id": "660fa85f",
   "metadata": {},
   "outputs": [
    {
     "data": {
      "text/plain": [
       "array([[2.8e-45, 8.4e-45, 2.8e-45],\n",
       "       [4.2e-45, 2.8e-45, 1.1e-44],\n",
       "       [1.4e-45, 8.4e-45, 1.4e-45],\n",
       "       [7.0e-45, 1.1e-44, 9.8e-45]], dtype=float32)"
      ]
     },
     "execution_count": 23,
     "metadata": {},
     "output_type": "execute_result"
    }
   ],
   "source": [
    "tableau_random[:-1]\n",
    "tableau_random"
   ]
  },
  {
   "cell_type": "markdown",
   "id": "92a72fc4",
   "metadata": {},
   "source": [
    "# EXERCICE NUMPY Statistique avec numpy\n",
    "\n",
    "Soit le tableau a = np.array([[1,2,3],[4,5,6],[7,8,9]])"
   ]
  },
  {
   "cell_type": "code",
   "execution_count": 24,
   "id": "3d9a5eee",
   "metadata": {},
   "outputs": [
    {
     "data": {
      "text/plain": [
       "7.1e-44"
      ]
     },
     "execution_count": 24,
     "metadata": {},
     "output_type": "execute_result"
    }
   ],
   "source": [
    "#1. Afficher la somme des éléments du tableau\n",
    "somme= np.sum(a)\n",
    "somme"
   ]
  },
  {
   "cell_type": "code",
   "execution_count": 25,
   "id": "2e80428b",
   "metadata": {},
   "outputs": [
    {
     "data": {
      "text/plain": [
       "array([7.0e-45, 2.7e-44, 1.5e-44, 2.2e-44], dtype=float32)"
      ]
     },
     "execution_count": 25,
     "metadata": {},
     "output_type": "execute_result"
    }
   ],
   "source": [
    "#2. Afficher la somme des éléments du tableau par colonne\n",
    "somme_colonne = np.sum(a, axis=0)\n",
    "somme_colonne"
   ]
  },
  {
   "cell_type": "code",
   "execution_count": 26,
   "id": "72df21d2",
   "metadata": {},
   "outputs": [
    {
     "data": {
      "text/plain": [
       "array([7.0e-45, 2.7e-44, 1.5e-44, 2.2e-44], dtype=float32)"
      ]
     },
     "execution_count": 26,
     "metadata": {},
     "output_type": "execute_result"
    }
   ],
   "source": [
    "#3. Afficher la somme des éléments du tableau par ligne\n",
    "somme_ligne = np.sum(a, axis=0)\n",
    "somme_ligne"
   ]
  },
  {
   "cell_type": "code",
   "execution_count": 27,
   "id": "59d3c434",
   "metadata": {},
   "outputs": [
    {
     "data": {
      "text/plain": [
       "array([0., 0., 0., 0.], dtype=float32)"
      ]
     },
     "execution_count": 27,
     "metadata": {},
     "output_type": "execute_result"
    }
   ],
   "source": [
    "#4. Afficher le produit des éléments du tableau par colonne\n",
    "produit_colonne = np.prod(a, axis=0)\n",
    "produit_colonne"
   ]
  },
  {
   "cell_type": "code",
   "execution_count": 28,
   "id": "52632b9e",
   "metadata": {},
   "outputs": [
    {
     "data": {
      "text/plain": [
       "1e-45"
      ]
     },
     "execution_count": 28,
     "metadata": {},
     "output_type": "execute_result"
    }
   ],
   "source": [
    "#5. Afficher le minimum du tableau\n",
    "minimum = np.min(a)\n",
    "minimum"
   ]
  },
  {
   "cell_type": "code",
   "execution_count": 29,
   "id": "00d20be6",
   "metadata": {},
   "outputs": [
    {
     "data": {
      "text/plain": [
       "1.1e-44"
      ]
     },
     "execution_count": 29,
     "metadata": {},
     "output_type": "execute_result"
    }
   ],
   "source": [
    "#6. Afficher le minimum du tableau\n",
    "maximum = np.max(a)\n",
    "maximum"
   ]
  },
  {
   "cell_type": "code",
   "execution_count": 30,
   "id": "f01bffc4",
   "metadata": {},
   "outputs": [
    {
     "data": {
      "text/plain": [
       "6e-45"
      ]
     },
     "execution_count": 30,
     "metadata": {},
     "output_type": "execute_result"
    }
   ],
   "source": [
    "#7. Afficher la moyenne des éléments du tableau\n",
    "moyenne = np.mean(a)\n",
    "moyenne"
   ]
  },
  {
   "cell_type": "code",
   "execution_count": 32,
   "id": "3a1273df",
   "metadata": {},
   "outputs": [
    {
     "data": {
      "text/plain": [
       "0.0"
      ]
     },
     "execution_count": 32,
     "metadata": {},
     "output_type": "execute_result"
    }
   ],
   "source": [
    "#8. Afficher la variance des éléments du tableau\n",
    "variance = np.var(a)\n",
    "variance"
   ]
  },
  {
   "cell_type": "code",
   "execution_count": 33,
   "id": "68d11942",
   "metadata": {},
   "outputs": [
    {
     "data": {
      "text/plain": [
       "0.0"
      ]
     },
     "execution_count": 33,
     "metadata": {},
     "output_type": "execute_result"
    }
   ],
   "source": [
    "#9. Afficher l’écart type des éléments du tableau\n",
    "ecart_type = np.std(a)\n",
    "ecart_type"
   ]
  },
  {
   "cell_type": "code",
   "execution_count": null,
   "id": "8a1de19b",
   "metadata": {},
   "outputs": [],
   "source": []
  }
 ],
 "metadata": {
  "kernelspec": {
   "display_name": "Python 3 (ipykernel)",
   "language": "python",
   "name": "python3"
  },
  "language_info": {
   "codemirror_mode": {
    "name": "ipython",
    "version": 3
   },
   "file_extension": ".py",
   "mimetype": "text/x-python",
   "name": "python",
   "nbconvert_exporter": "python",
   "pygments_lexer": "ipython3",
   "version": "3.11.4"
  }
 },
 "nbformat": 4,
 "nbformat_minor": 5
}
